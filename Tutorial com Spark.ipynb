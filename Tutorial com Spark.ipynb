{
 "cells": [
  {
   "cell_type": "code",
   "execution_count": 1,
   "metadata": {
    "collapsed": true
   },
   "outputs": [],
   "source": [
    "import findspark\n",
    "findspark.init()\n",
    "\n",
    "import pyspark\n"
   ]
  },
  {
   "cell_type": "code",
   "execution_count": 2,
   "metadata": {
    "collapsed": true
   },
   "outputs": [],
   "source": [
    "spark = pyspark.sql.SparkSession.builder \\\n",
    "     .master(\"local\") \\\n",
    "     .appName(\"Word Count\") \\\n",
    "     .config(\"spark.some.config.option\", \"some-value\") \\\n",
    "     .getOrCreate()\n",
    "sc = spark.sparkContext"
   ]
  },
  {
   "cell_type": "markdown",
   "metadata": {},
   "source": [
    "### Projeto da mozilla pra monitoramento: https://github.com/mozilla/jupyter-spark"
   ]
  },
  {
   "cell_type": "code",
   "execution_count": 3,
   "metadata": {},
   "outputs": [
    {
     "data": {
      "text/plain": [
       "'http://10.2.96.44:4040'"
      ]
     },
     "execution_count": 3,
     "metadata": {},
     "output_type": "execute_result"
    }
   ],
   "source": [
    "sc.uiWebUrl # ou spark.sparkContext.uiWebUrl"
   ]
  },
  {
   "cell_type": "code",
   "execution_count": 4,
   "metadata": {
    "collapsed": true
   },
   "outputs": [],
   "source": [
    "df_d = spark.read.csv(\n",
    "    \"/Users/diogo.munaro/learn/tutorial-jupyter/dataset/despesa.csv\", header=True, mode=\"DROPMALFORMED\"\n",
    ")\n",
    "df_r = spark.read.csv(\n",
    "    \"/Users/diogo.munaro/learn/tutorial-jupyter/dataset/receita.csv\", header=True, mode=\"DROPMALFORMED\"\n",
    ")"
   ]
  },
  {
   "cell_type": "markdown",
   "metadata": {},
   "source": [
    "## Despesa"
   ]
  },
  {
   "cell_type": "code",
   "execution_count": 5,
   "metadata": {},
   "outputs": [
    {
     "name": "stdout",
     "output_type": "stream",
     "text": [
      "root\n",
      " |-- Exercicio: string (nullable = true)\n",
      " |-- Orgao: string (nullable = true)\n",
      " |-- Unidade_Orcamentaria: string (nullable = true)\n",
      " |-- Programa_de_Trabalho: string (nullable = true)\n",
      " |-- Acao: string (nullable = true)\n",
      " |-- Descricao_Acao: string (nullable = true)\n",
      " |-- Fonte_de_Recursos: string (nullable = true)\n",
      " |-- Descricao_Fonte: string (nullable = true)\n",
      " |-- Elemento_Despesa: string (nullable = true)\n",
      " |-- Descricao_Elemento: string (nullable = true)\n",
      " |-- Item_Despesa: string (nullable = true)\n",
      " |-- Descricao_item_Despesa: string (nullable = true)\n",
      " |-- Orcamento_Atualizado: string (nullable = true)\n",
      " |-- Empenhado: string (nullable = true)\n",
      " |-- Liquidado: string (nullable = true)\n",
      " |-- Pago: string (nullable = true)\n",
      " |-- Pago_Restos_Pagar: string (nullable = true)\n",
      "\n"
     ]
    }
   ],
   "source": [
    "df_d.printSchema()"
   ]
  },
  {
   "cell_type": "code",
   "execution_count": 6,
   "metadata": {},
   "outputs": [
    {
     "data": {
      "text/plain": [
       "13510"
      ]
     },
     "execution_count": 6,
     "metadata": {},
     "output_type": "execute_result"
    }
   ],
   "source": [
    "df_d.count()"
   ]
  },
  {
   "cell_type": "code",
   "execution_count": 7,
   "metadata": {
    "collapsed": true
   },
   "outputs": [],
   "source": [
    "from pyspark.sql.functions import udf\n",
    "from pyspark.sql.types import FloatType\n",
    "def sanitize_valor(valor):\n",
    "    return float(valor.replace(\" \", \".\"))\n",
    "\n",
    "udf_sanitize_valor=udf(sanitize_valor, FloatType())"
   ]
  },
  {
   "cell_type": "code",
   "execution_count": 8,
   "metadata": {
    "collapsed": true
   },
   "outputs": [],
   "source": [
    "df_d_new = df_d.withColumn('total', udf_sanitize_valor('Pago'))"
   ]
  },
  {
   "cell_type": "code",
   "execution_count": 9,
   "metadata": {},
   "outputs": [
    {
     "name": "stdout",
     "output_type": "stream",
     "text": [
      "+----+---------------------------------------------------------------------------------+--------------------+\n",
      "|Acao|Descricao_Acao                                                                   |sum(total)          |\n",
      "+----+---------------------------------------------------------------------------------+--------------------+\n",
      "|4300|SERVIDORES INATIVOS DA REDE DE ENSINO                                            |1.9422517606750488E9|\n",
      "|2381|GASTOS COM PESSOAL - OBRIGACOES PATRONAIS E OUTROS BENEFICIOS - EDUCACAO         |1.6778572596716385E9|\n",
      "|2562|PESSOAL DAS UNIDADES ESCOLARES - ENSINO FUNDAMENTAL                              |1.2769842251617432E9|\n",
      "|2854|MANUTENCAO DO CUSTEIO DA REDE DE ATENCAO PRIMARIA A SAUDE                        |1.004418074720047E9 |\n",
      "|2520|PROVISAO DE GASTOS COM PESSOAL - SAUDE                                           |9.848626756809692E8 |\n",
      "|4525|PROVISAO DE GASTOS COM PESSOAL - ADM. INDIRETA - MEIO AMBIENTE E SUSTENTABILIDADE|9.485242772831573E8 |\n",
      "|2389|GASTOS COM PESSOAL - OBRIGACOES PATRONAIS E OUTROS BENEFICIOS                    |7.251466813494263E8 |\n",
      "|4302|SERVIDORES INATIVOS DA ADMINISTRACAO DIRETA                                      |6.501369461625977E8 |\n",
      "|2508|PESSOAL DE APOIO DAS UNIDADES ESCOLARES                                          |6.192531627678528E8 |\n",
      "|2009|MANUTENCAO DO CUSTEIO DA REDE HOSPITALAR                                         |5.74711813254509E8  |\n",
      "|4515|BENEFICIOS A DEPENDENTES                                                         |5.67557219E8        |\n",
      "|2151|MANUTENCAO DO CUSTEIO DAS MATERNIDADES                                           |5.068713096781616E8 |\n",
      "|1720|INFRAESTRUTURA VIARIA E DE OBRAS DE ARTES ESPECIAIS - TRANSOLIMPICA              |5.02571362E8        |\n",
      "|2529|PROVISAO DE GASTOS COM PESSOAL - GESTAO E FINANCAS PUBLICAS                      |4.350337047399194E8 |\n",
      "|4522|PROVISAO DE GASTOS COM PESSOAL - ADM. INDIRETA - ORDEM PUBLICA E CONSERVACAO     |4.2385881774972534E8|\n",
      "|3724|PROJETOS E OBRAS - PARQUE OLIMPICO                                               |4.104982450625E8    |\n",
      "|2081|MANUTENCAO E REVITALIZACAO DAS UNIDADES DA REDE DE ENSINO                        |3.974860061310425E8 |\n",
      "|5026|ENCARGOS DA DIVIDA INTERNA                                                       |3.92396524E8        |\n",
      "|2380|GASTOS COM PESSOAL - OBRIGACOES PATRONAIS E OUTROS BENEFICIOS - SAUDE            |3.6837500276116943E8|\n",
      "|1753|IMPLANTACAO DO BRT TRANSBRASIL                                                   |3.67665292E8        |\n",
      "+----+---------------------------------------------------------------------------------+--------------------+\n",
      "only showing top 20 rows\n",
      "\n"
     ]
    }
   ],
   "source": [
    "from pyspark.sql.functions import desc\n",
    "\n",
    "gastos = df_d_new.select(\"Acao\", \"Descricao_Acao\", \"total\") \\\n",
    "    .groupBy(\"Acao\", \"Descricao_Acao\") \\\n",
    "    .sum(\"total\") \\\n",
    "    .orderBy(desc(\"sum(total)\"))\n",
    "gastos.show(truncate=False)"
   ]
  },
  {
   "cell_type": "code",
   "execution_count": 87,
   "metadata": {
    "collapsed": true
   },
   "outputs": [],
   "source": [
    "gastos_pd = gastos.limit(20).toPandas()"
   ]
  },
  {
   "cell_type": "code",
   "execution_count": 89,
   "metadata": {},
   "outputs": [
    {
     "data": {
      "text/plain": [
       "<matplotlib.axes._subplots.AxesSubplot at 0x109715be0>"
      ]
     },
     "execution_count": 89,
     "metadata": {},
     "output_type": "execute_result"
    },
    {
     "data": {
      "image/png": "[encoded data removed]",
      "text/plain": [
       "<matplotlib.figure.Figure at 0x10970f2e8>"
      ]
     },
     "metadata": {},
     "output_type": "display_data"
    }
   ],
   "source": [
    "%matplotlib inline\n",
    "gastos_pd.columns = [\"Ação\", \"Descrição\", \"Total Gasto\"]\n",
    "gastos_pd.plot(x='Ação', y='Total Gasto', kind='bar')"
   ]
  },
  {
   "cell_type": "code",
   "execution_count": 12,
   "metadata": {},
   "outputs": [
    {
     "name": "stdout",
     "output_type": "stream",
     "text": [
      "+----+------------------------------------------------------------------------------------------+\n",
      "|Acao|Descricao_Acao                                                                            |\n",
      "+----+------------------------------------------------------------------------------------------+\n",
      "|2168|APOIO ADMINISTRATIVO - DESENVOLVIMENTO SOCIAL                                             |\n",
      "|2736|MAPEAMENTO E GERENCIAMENTO DA MALHA VIARIA E DA MICRODRENAGEM DA CIDADE                   |\n",
      "|2015|ADMINISTRACAO DAS OUVIDORIAS DO NIVEL CENTRAL  DAS CAPS E DOS HOSPITAIS                   |\n",
      "|4341|DESPESAS OBRIGATORIAS E OUTROS CUSTEIOS - ADM. INDIRETA - EDUCACAO                        |\n",
      "|8656|REFORMA DE QUADRA POLIESPORTIVA NO PREDIO DO CLUBE DOS SUBTENENTES E SARGENTOS BOMBEIROS D|\n",
      "|2226|ATIVIDADES DO CONSELHO MUNICIPAL DE DEFESA DOS DIREITOS DA PESSOA COM DEFICIENCIA (COMDEF)|\n",
      "|2114|PROMOVENDO A IGUALDADE RACIAL                                                             |\n",
      "|2418|CONCESSIONARIAS DE SERVICOS PUBLICOS - ADM. DIRETA - DESENVOLVIMENTO SOCIAL               |\n",
      "|4727|MANUTENCAO DA SINALIZACAO SEMAFORICA                                                      |\n",
      "|2865|PREVENCAO DE DANOS AO MEIO AMBIENTE                                                       |\n",
      "|4166|APOIO ADMINISTRATIVO - ADM. INDIRETA - TRANSPORTES                                        |\n",
      "|2855|AMPLIACAO DO ACESSO E QUALIFICACAO DO CUIDADO EM SAUDE BUCAL                              |\n",
      "|4410|CONCESSIONARIAS DE SERVICOS PUBLICOS - ADM. INDIRETA - SAUDE                              |\n",
      "|1762|PLANEJAMENTO DO RIO CIDADE INTELIGENTE                                                    |\n",
      "|3079|REFORMA EM IMOVEIS PROPRIOS - PREVI-RIO                                                   |\n",
      "|1793|OBRAS DE REQUALIFICACAO URBANA DA CIDADE NOVA                                             |\n",
      "|2027|PROMOCAO DOS DIREITOS HUMANOS                                                             |\n",
      "|2318|ATIVIDADES DO FUNDO ORCAMENTARIO ESPECIAL DO CENTRO DE ESTUDOS DA PGM                     |\n",
      "|2791|MANUTENCAO E DESENVOLVIMENTO DA INFORMATICA - ADM. DIRETA - EDUCACAO                      |\n",
      "|5702|PROJETOS CULTURAIS - LEI 1940/92                                                          |\n",
      "+----+------------------------------------------------------------------------------------------+\n",
      "only showing top 20 rows\n",
      "\n"
     ]
    }
   ],
   "source": [
    "df_d.select(\"Acao\", \"Descricao_Acao\").distinct().show(truncate=False)"
   ]
  },
  {
   "cell_type": "markdown",
   "metadata": {},
   "source": [
    "## Receita"
   ]
  },
  {
   "cell_type": "code",
   "execution_count": 13,
   "metadata": {},
   "outputs": [
    {
     "name": "stdout",
     "output_type": "stream",
     "text": [
      "root\n",
      " |-- EXERCICIO: string (nullable = true)\n",
      " |-- DESC_ORGAO: string (nullable = true)\n",
      " |-- CODIGO_RUBRICA: string (nullable = true)\n",
      " |-- DESC_RUBRICA: string (nullable = true)\n",
      " |-- RECEITA_PREVISTA: string (nullable = true)\n",
      " |-- RECEITA_ARRECADADA: string (nullable = true)\n",
      " |-- RECEITA_ARRECADADA_JAN: string (nullable = true)\n",
      " |-- RECEITA_ARRECADADA_FEV: string (nullable = true)\n",
      " |-- RECEITA_ARRECADADA_MAR: string (nullable = true)\n",
      " |-- RECEITA_ARRECADADA_ABR: string (nullable = true)\n",
      " |-- RECEITA_ARRECADADA_MAI: string (nullable = true)\n",
      " |-- RECEITA_ARRECADADA_JUN: string (nullable = true)\n",
      " |-- RECEITA_ARRECADADA_JUL: string (nullable = true)\n",
      " |-- RECEITA_ARRECADADA_AGO: string (nullable = true)\n",
      " |-- RECEITA_ARRECADADA_SET: string (nullable = true)\n",
      " |-- RECEITA_ARRECADADA_OUT: string (nullable = true)\n",
      " |-- RECEITA_ARRECADADA_NOV: string (nullable = true)\n",
      " |-- RECEITA_ARRECADADA_DEZ: string (nullable = true)\n",
      "\n"
     ]
    }
   ],
   "source": [
    "df_r.printSchema()"
   ]
  },
  {
   "cell_type": "code",
   "execution_count": 14,
   "metadata": {
    "collapsed": true
   },
   "outputs": [],
   "source": [
    "import re\n",
    "r = re.compile('RECEITA_ARRECADADA_.*')\n",
    "colunas = [c for c in df_r.columns if r.match(c)]"
   ]
  },
  {
   "cell_type": "code",
   "execution_count": 15,
   "metadata": {
    "collapsed": true
   },
   "outputs": [],
   "source": [
    "for c in colunas:\n",
    "    df_r = df_r.withColumn('TOTAL_%s' %c, udf_sanitize_valor(c))"
   ]
  },
  {
   "cell_type": "code",
   "execution_count": 16,
   "metadata": {
    "collapsed": true
   },
   "outputs": [],
   "source": [
    "df_r = df_r.withColumn('TOTAL_RECEITA_ARRECADADA', udf_sanitize_valor('RECEITA_ARRECADADA'))"
   ]
  },
  {
   "cell_type": "code",
   "execution_count": 17,
   "metadata": {
    "collapsed": true
   },
   "outputs": [],
   "source": [
    "df_r = df_r.withColumn('TOTAL_RECEITA_PREVISTA', udf_sanitize_valor('RECEITA_PREVISTA'))"
   ]
  },
  {
   "cell_type": "code",
   "execution_count": 18,
   "metadata": {
    "collapsed": true
   },
   "outputs": [],
   "source": [
    "df_r_new = df_r.withColumn('total', sum(df_r['TOTAL_%s' % col] for col in colunas))"
   ]
  },
  {
   "cell_type": "code",
   "execution_count": 19,
   "metadata": {},
   "outputs": [
    {
     "name": "stdout",
     "output_type": "stream",
     "text": [
      "+------------+------------------------+----------------------+\n",
      "|       total|TOTAL_RECEITA_ARRECADADA|TOTAL_RECEITA_PREVISTA|\n",
      "+------------+------------------------+----------------------+\n",
      "|         0.0|                     0.0|                 855.0|\n",
      "|   8711539.0|               8711540.0|             3742598.0|\n",
      "|    432012.2|                432012.2|             1010752.0|\n",
      "|   276325.88|               276325.88|              310673.0|\n",
      "|    59557.25|                59557.25|              140549.0|\n",
      "|   686846.75|               686846.75|                   0.0|\n",
      "|  1.924945E7|             1.9249448E7|              149599.0|\n",
      "|   368417.84|               368417.88|                   0.0|\n",
      "|    15507.91|                15507.91|                   0.0|\n",
      "|2.56288032E8|            2.56288032E8|          2.87993344E8|\n",
      "+------------+------------------------+----------------------+\n",
      "\n"
     ]
    }
   ],
   "source": [
    "df_r_new.select('total', 'TOTAL_RECEITA_ARRECADADA', 'TOTAL_RECEITA_PREVISTA').limit(10).show()"
   ]
  },
  {
   "cell_type": "code",
   "execution_count": 20,
   "metadata": {
    "collapsed": true
   },
   "outputs": [],
   "source": [
    "df_r_defict = df_r_new.withColumn('defict', df_r_new['total'] - df_r_new['TOTAL_RECEITA_PREVISTA'])"
   ]
  },
  {
   "cell_type": "code",
   "execution_count": 21,
   "metadata": {},
   "outputs": [
    {
     "name": "stdout",
     "output_type": "stream",
     "text": [
      "+-------+--------------------+------------------------+----------------------+\n",
      "|summary|               total|TOTAL_RECEITA_ARRECADADA|TOTAL_RECEITA_PREVISTA|\n",
      "+-------+--------------------+------------------------+----------------------+\n",
      "|  count|                 784|                     784|                   784|\n",
      "|   mean| 3.605579786973294E7|      3.60557981523346E7|   3.936981059821428E7|\n",
      "| stddev|2.3870880012121066E8|    2.3870880223041692E8|  2.6561085945405543E8|\n",
      "|    min|        -0.029296875|           -1.4901161E-8|                   0.0|\n",
      "|    max|         5.1055063E9|             5.1055063E9|           5.8554716E9|\n",
      "+-------+--------------------+------------------------+----------------------+\n",
      "\n"
     ]
    }
   ],
   "source": [
    "df_r_defict.select('total', 'TOTAL_RECEITA_ARRECADADA', 'TOTAL_RECEITA_PREVISTA').describe().show()"
   ]
  },
  {
   "cell_type": "code",
   "execution_count": 22,
   "metadata": {},
   "outputs": [
    {
     "name": "stdout",
     "output_type": "stream",
     "text": [
      "+---------------------+-----------------------------+\n",
      "|sum(defict)          |sum(TOTAL_RECEITA_ARRECADADA)|\n",
      "+---------------------+-----------------------------+\n",
      "|-2.5981859903069253E9|2.8267745751430325E10        |\n",
      "+---------------------+-----------------------------+\n",
      "\n"
     ]
    }
   ],
   "source": [
    "df_r_defict_grouped = df_r_defict.groupBy().sum('defict', 'TOTAL_RECEITA_ARRECADADA')\n",
    "df_r_defict_grouped.show(truncate=False)"
   ]
  },
  {
   "cell_type": "code",
   "execution_count": 26,
   "metadata": {},
   "outputs": [
    {
     "name": "stdout",
     "output_type": "stream",
     "text": [
      "+--------------------+-----------------------------+--------------------+\n",
      "|         sum(defict)|sum(TOTAL_RECEITA_ARRECADADA)|       defict_invert|\n",
      "+--------------------+-----------------------------+--------------------+\n",
      "|-2.59818599030692...|         2.826774575143032...|2.5981859903069253E9|\n",
      "+--------------------+-----------------------------+--------------------+\n",
      "\n"
     ]
    }
   ],
   "source": [
    "df_r_defict_grouped_invert = df_r_defict_grouped.withColumn('defict_invert', df_r_defict_grouped['sum(defict)']* -1)\n",
    "df_r_defict_grouped_invert.show()"
   ]
  },
  {
   "cell_type": "code",
   "execution_count": 31,
   "metadata": {
    "collapsed": true
   },
   "outputs": [],
   "source": [
    "df_r_defict_grouped_invert_pd = df_r_defict_grouped_invert.select('defict_invert', 'sum(TOTAL_RECEITA_ARRECADADA)').toPandas()"
   ]
  },
  {
   "cell_type": "code",
   "execution_count": 80,
   "metadata": {},
   "outputs": [],
   "source": [
    "df_r_defict_grouped_invert_pd.columns = [\"Défict\", \"Arrecadado\"]"
   ]
  },
  {
   "cell_type": "code",
   "execution_count": 81,
   "metadata": {},
   "outputs": [],
   "source": [
    "df_r_transpose = df_r_defict_grouped_invert_pd.transpose()"
   ]
  },
  {
   "cell_type": "code",
   "execution_count": 84,
   "metadata": {
    "collapsed": true
   },
   "outputs": [],
   "source": [
    "df_r_transpose.columns = [\"\"]"
   ]
  },
  {
   "cell_type": "code",
   "execution_count": 85,
   "metadata": {},
   "outputs": [
    {
     "data": {
      "text/plain": [
       "array([<matplotlib.axes._subplots.AxesSubplot object at 0x1095768d0>], dtype=object)"
      ]
     },
     "execution_count": 85,
     "metadata": {},
     "output_type": "execute_result"
    },
    {
     "data": {
      "image/png": "[encoded data removed]",
      "text/plain": [
       "<matplotlib.figure.Figure at 0x10957fd68>"
      ]
     },
     "metadata": {},
     "output_type": "display_data"
    }
   ],
   "source": [
    "df_r_transpose.plot(kind=\"pie\", subplots=True)"
   ]
  }
 ],
 "metadata": {
  "kernelspec": {
   "display_name": "Python 3",
   "language": "python",
   "name": "python3"
  },
  "language_info": {
   "codemirror_mode": {
    "name": "ipython",
    "version": 3
   },
   "file_extension": ".py",
   "mimetype": "text/x-python",
   "name": "python",
   "nbconvert_exporter": "python",
   "pygments_lexer": "ipython3",
   "version": "3.5.2"
  }
 },
 "nbformat": 4,
 "nbformat_minor": 2
}
