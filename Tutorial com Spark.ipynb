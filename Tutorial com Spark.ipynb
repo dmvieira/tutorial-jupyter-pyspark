{
 "cells": [
  {
   "cell_type": "code",
   "execution_count": null,
   "metadata": {
    "collapsed": true
   },
   "outputs": [],
   "source": [
    "import findspark\n",
    "findspark.init()\n",
    "\n",
    "import pyspark\n"
   ]
  },
  {
   "cell_type": "code",
   "execution_count": null,
   "metadata": {
    "collapsed": true
   },
   "outputs": [],
   "source": [
    "spark = pyspark.sql.SparkSession.builder \\\n",
    "     .master(\"local\") \\\n",
    "     .appName(\"Word Count\") \\\n",
    "     .config(\"spark.some.config.option\", \"some-value\") \\\n",
    "     .getOrCreate()\n",
    "sc = spark.sparkContext"
   ]
  },
  {
   "cell_type": "markdown",
   "metadata": {},
   "source": [
    "### Projeto da mozilla pra monitoramento: https://github.com/mozilla/jupyter-spark"
   ]
  },
  {
   "cell_type": "code",
   "execution_count": null,
   "metadata": {},
   "outputs": [],
   "source": [
    "sc.uiWebUrl # ou spark.sparkContext.uiWebUrl"
   ]
  },
  {
   "cell_type": "code",
   "execution_count": null,
   "metadata": {
    "collapsed": true
   },
   "outputs": [],
   "source": [
    "df_d = spark.read.csv(\n",
    "    \"/Users/diogo.munaro/learn/tutorial-jupyter/dataset/despesa.csv\", header=True, mode=\"DROPMALFORMED\"\n",
    ")\n",
    "df_r = spark.read.csv(\n",
    "    \"/Users/diogo.munaro/learn/tutorial-jupyter/dataset/receita.csv\", header=True, mode=\"DROPMALFORMED\"\n",
    ")"
   ]
  },
  {
   "cell_type": "markdown",
   "metadata": {},
   "source": [
    "## Despesa"
   ]
  },
  {
   "cell_type": "code",
   "execution_count": null,
   "metadata": {},
   "outputs": [],
   "source": [
    "df_d.printSchema()"
   ]
  },
  {
   "cell_type": "code",
   "execution_count": null,
   "metadata": {},
   "outputs": [],
   "source": [
    "df_d.count()"
   ]
  },
  {
   "cell_type": "code",
   "execution_count": null,
   "metadata": {
    "collapsed": true
   },
   "outputs": [],
   "source": [
    "from pyspark.sql.functions import udf\n",
    "from pyspark.sql.types import FloatType\n",
    "def sanitize_valor(valor):\n",
    "    return float(valor.replace(\" \", \".\"))\n",
    "\n",
    "udf_sanitize_valor=udf(sanitize_valor, FloatType())"
   ]
  },
  {
   "cell_type": "code",
   "execution_count": null,
   "metadata": {
    "collapsed": true
   },
   "outputs": [],
   "source": [
    "df_d_new = df_d.withColumn('total', udf_sanitize_valor('Pago'))"
   ]
  },
  {
   "cell_type": "code",
   "execution_count": null,
   "metadata": {},
   "outputs": [],
   "source": [
    "from pyspark.sql.functions import desc\n",
    "\n",
    "gastos = df_d_new.select(\"Acao\", \"Descricao_Acao\", \"total\") \\\n",
    "    .groupBy(\"Acao\", \"Descricao_Acao\") \\\n",
    "    .sum(\"total\") \\\n",
    "    .orderBy(desc(\"sum(total)\"))\n",
    "gastos.show(truncate=False)"
   ]
  },
  {
   "cell_type": "code",
   "execution_count": null,
   "metadata": {
    "collapsed": true
   },
   "outputs": [],
   "source": [
    "gastos_pd = gastos.limit(20).toPandas()"
   ]
  },
  {
   "cell_type": "code",
   "execution_count": null,
   "metadata": {},
   "outputs": [],
   "source": [
    "%matplotlib inline\n",
    "gastos_pd.columns = [\"Ação\", \"Descrição\", \"Total Gasto\"]\n",
    "gastos_pd.plot(x='Ação', y='Total Gasto', kind='bar')"
   ]
  },
  {
   "cell_type": "code",
   "execution_count": null,
   "metadata": {},
   "outputs": [],
   "source": [
    "df_d.select(\"Acao\", \"Descricao_Acao\").distinct().show(truncate=False)"
   ]
  },
  {
   "cell_type": "markdown",
   "metadata": {},
   "source": [
    "## Receita"
   ]
  },
  {
   "cell_type": "code",
   "execution_count": null,
   "metadata": {},
   "outputs": [],
   "source": [
    "df_r.printSchema()"
   ]
  },
  {
   "cell_type": "code",
   "execution_count": null,
   "metadata": {
    "collapsed": true
   },
   "outputs": [],
   "source": [
    "import re\n",
    "r = re.compile('RECEITA_ARRECADADA_.*')\n",
    "colunas = [c for c in df_r.columns if r.match(c)]"
   ]
  },
  {
   "cell_type": "code",
   "execution_count": null,
   "metadata": {
    "collapsed": true
   },
   "outputs": [],
   "source": [
    "for c in colunas:\n",
    "    df_r = df_r.withColumn('TOTAL_%s' %c, udf_sanitize_valor(c))"
   ]
  },
  {
   "cell_type": "code",
   "execution_count": null,
   "metadata": {
    "collapsed": true
   },
   "outputs": [],
   "source": [
    "df_r = df_r.withColumn('TOTAL_RECEITA_ARRECADADA', udf_sanitize_valor('RECEITA_ARRECADADA'))"
   ]
  },
  {
   "cell_type": "code",
   "execution_count": null,
   "metadata": {
    "collapsed": true
   },
   "outputs": [],
   "source": [
    "df_r = df_r.withColumn('TOTAL_RECEITA_PREVISTA', udf_sanitize_valor('RECEITA_PREVISTA'))"
   ]
  },
  {
   "cell_type": "code",
   "execution_count": null,
   "metadata": {
    "collapsed": true
   },
   "outputs": [],
   "source": [
    "df_r_new = df_r.withColumn('total', sum(df_r['TOTAL_%s' % col] for col in colunas))"
   ]
  },
  {
   "cell_type": "code",
   "execution_count": null,
   "metadata": {},
   "outputs": [],
   "source": [
    "df_r_new.select('total', 'TOTAL_RECEITA_ARRECADADA', 'TOTAL_RECEITA_PREVISTA').limit(10).show()"
   ]
  },
  {
   "cell_type": "code",
   "execution_count": null,
   "metadata": {
    "collapsed": true
   },
   "outputs": [],
   "source": [
    "df_r_defict = df_r_new.withColumn('defict', df_r_new['total'] - df_r_new['TOTAL_RECEITA_PREVISTA'])"
   ]
  },
  {
   "cell_type": "code",
   "execution_count": null,
   "metadata": {},
   "outputs": [],
   "source": [
    "df_r_defict.select('total', 'TOTAL_RECEITA_ARRECADADA', 'TOTAL_RECEITA_PREVISTA').describe().show()"
   ]
  },
  {
   "cell_type": "code",
   "execution_count": null,
   "metadata": {},
   "outputs": [],
   "source": [
    "df_r_defict_grouped = df_r_defict.groupBy().sum('defict', 'TOTAL_RECEITA_ARRECADADA')\n",
    "df_r_defict_grouped.show(truncate=False)"
   ]
  },
  {
   "cell_type": "code",
   "execution_count": null,
   "metadata": {},
   "outputs": [],
   "source": [
    "df_r_defict_grouped_invert = df_r_defict_grouped.withColumn('defict_invert', df_r_defict_grouped['sum(defict)']* -1)\n",
    "df_r_defict_grouped_invert.show()"
   ]
  },
  {
   "cell_type": "code",
   "execution_count": null,
   "metadata": {
    "collapsed": true
   },
   "outputs": [],
   "source": [
    "df_r_defict_grouped_invert_pd = df_r_defict_grouped_invert.select('defict_invert', 'sum(TOTAL_RECEITA_ARRECADADA)').toPandas()"
   ]
  },
  {
   "cell_type": "code",
   "execution_count": null,
   "metadata": {
    "collapsed": true
   },
   "outputs": [],
   "source": [
    "df_r_defict_grouped_invert_pd.columns = [\"Défict\", \"Arrecadado\"]"
   ]
  },
  {
   "cell_type": "code",
   "execution_count": null,
   "metadata": {
    "collapsed": true
   },
   "outputs": [],
   "source": [
    "df_r_transpose = df_r_defict_grouped_invert_pd.transpose()"
   ]
  },
  {
   "cell_type": "code",
   "execution_count": null,
   "metadata": {
    "collapsed": true
   },
   "outputs": [],
   "source": [
    "df_r_transpose.columns = [\"\"]"
   ]
  },
  {
   "cell_type": "code",
   "execution_count": null,
   "metadata": {},
   "outputs": [],
   "source": [
    "df_r_transpose.plot(kind=\"pie\", subplots=True)"
   ]
  }
 ],
 "metadata": {
  "kernelspec": {
   "display_name": "Python 3",
   "language": "python",
   "name": "python3"
  },
  "language_info": {
   "codemirror_mode": {
    "name": "ipython",
    "version": 3
   },
   "file_extension": ".py",
   "mimetype": "text/x-python",
   "name": "python",
   "nbconvert_exporter": "python",
   "pygments_lexer": "ipython3",
   "version": "3.5.2"
  }
 },
 "nbformat": 4,
 "nbformat_minor": 2
}
